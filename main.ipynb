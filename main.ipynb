{
 "cells": [
  {
   "cell_type": "markdown",
   "metadata": {},
   "source": [
    "# Learning Linear Algebra\n",
    "### Using python, `numpy`, and `matplotlib`\n",
    "\n",
    "Following the resources provided by this [Jupyter Guide to Linear Algebra](https://bvanderlei.github.io/jupyter-guide-to-linear-algebra/index.html) notebook."
   ]
  },
  {
   "cell_type": "markdown",
   "metadata": {},
   "source": [
    "# Introduction\n",
    "\n",
    "## Using `numpy`\n",
    "\n",
    "Rendering a matrix using `numpy` is very simple.\n",
    "\n",
    "The matrix we wish to render with `numpy` is below:\n",
    "\n",
    "$$\n",
    "A=\\begin{bmatrix}\n",
    "5 & -1 & 1 & 0 \\\\\n",
    "4 & 3 & 12 & -6 \\\\\n",
    "\\end{bmatrix}"
   ]
  },
  {
   "cell_type": "markdown",
   "metadata": {},
   "source": [
    "First, import the `numpy` library. We'll call it `np` to make things easier."
   ]
  },
  {
   "cell_type": "code",
   "execution_count": 1,
   "metadata": {},
   "outputs": [],
   "source": [
    "import numpy as np"
   ]
  },
  {
   "cell_type": "markdown",
   "metadata": {},
   "source": [
    "Next let's create the matrix in python using the `np.array` class:"
   ]
  },
  {
   "cell_type": "code",
   "execution_count": 2,
   "metadata": {},
   "outputs": [
    {
     "name": "stdout",
     "output_type": "stream",
     "text": [
      "[[ 5 -1  1  0]\n",
      " [ 4  3 12 -6]]\n"
     ]
    }
   ],
   "source": [
    "A = np.array([[5, -1, 1, 0], [4, 3, 12, -6]])\n",
    "print(A)"
   ]
  },
  {
   "cell_type": "markdown",
   "metadata": {},
   "source": [
    "The LaTeX markdown is identical to the printed python output in cell [3]."
   ]
  },
  {
   "cell_type": "markdown",
   "metadata": {},
   "source": [
    "**Additionally**, we could create the array I want by using the `reshape` function."
   ]
  },
  {
   "cell_type": "code",
   "execution_count": 3,
   "metadata": {},
   "outputs": [
    {
     "name": "stdout",
     "output_type": "stream",
     "text": [
      "This is B before reshaping\n",
      " [ 5 -1  1  0  4  3 12 -6]\n",
      "This is C, or B formed into a new shape\n",
      " [[ 5 -1  1  0]\n",
      " [ 4  3 12 -6]]\n"
     ]
    }
   ],
   "source": [
    "B = np.array([5, -1, 1, 0, 4, 3, 12, -6])\n",
    "print(\"This is B before reshaping\\n\", B)\n",
    "\n",
    "C = B.reshape((2, 4))\n",
    "print(\"This is C, or B formed into a new shape\\n\", C)"
   ]
  },
  {
   "cell_type": "markdown",
   "metadata": {},
   "source": [
    "To retain the original information of the matrix, it's usally best to `copy` the array into a new variable that we can make changes to without destroying the original. We can do this likeso:"
   ]
  },
  {
   "cell_type": "code",
   "execution_count": 4,
   "metadata": {},
   "outputs": [
    {
     "name": "stdout",
     "output_type": "stream",
     "text": [
      "Here is a duplicate of the A matrix\n",
      " [[ 5 -1  1  0]\n",
      " [ 4  3 12 -6]]\n"
     ]
    }
   ],
   "source": [
    "D = np.copy(A)\n",
    "print(\"Here is a duplicate of the A matrix\\n\", D)"
   ]
  },
  {
   "cell_type": "markdown",
   "metadata": {},
   "source": [
    "Use the following method to reassign matrix values:"
   ]
  },
  {
   "cell_type": "code",
   "execution_count": 5,
   "metadata": {},
   "outputs": [
    {
     "name": "stdout",
     "output_type": "stream",
     "text": [
      "Altered A matrix\n",
      " [[ 5 -1  8  0]\n",
      " [ 4  3 12 -6]]\n"
     ]
    }
   ],
   "source": [
    "A[0, 2] = 8\n",
    "print(\"Altered A matrix\\n\", A)"
   ]
  },
  {
   "cell_type": "markdown",
   "metadata": {},
   "source": [
    "It's common to create an array with mostly zeros. As an example, we can do this by:\n",
    "\n",
    "1. Creating an empty 4x4 array\n",
    "2. Set entries along the main diagonal to 2"
   ]
  },
  {
   "cell_type": "markdown",
   "metadata": {},
   "source": [
    "### 1. Creating an empty 4x4 array"
   ]
  },
  {
   "cell_type": "code",
   "execution_count": 6,
   "metadata": {},
   "outputs": [
    {
     "name": "stdout",
     "output_type": "stream",
     "text": [
      "Empty 4x4 matrix\n",
      " [[0. 0. 0. 0.]\n",
      " [0. 0. 0. 0.]\n",
      " [0. 0. 0. 0.]\n",
      " [0. 0. 0. 0.]]\n"
     ]
    }
   ],
   "source": [
    "D = np.zeros((4, 4))\n",
    "print(\"Empty 4x4 matrix\\n\", D)"
   ]
  },
  {
   "cell_type": "markdown",
   "metadata": {},
   "source": [
    "### Set entries along the main diagonal to 2"
   ]
  },
  {
   "cell_type": "code",
   "execution_count": 7,
   "metadata": {},
   "outputs": [
    {
     "name": "stdout",
     "output_type": "stream",
     "text": [
      "Assigned 4x4 matrix\n",
      " [[2. 0. 0. 0.]\n",
      " [0. 2. 0. 0.]\n",
      " [0. 0. 2. 0.]\n",
      " [0. 0. 0. 2.]]\n"
     ]
    }
   ],
   "source": [
    "for i in range(4):\n",
    "    D[i, i] = 2\n",
    "\n",
    "print(\"Assigned 4x4 matrix\\n\", D)"
   ]
  },
  {
   "cell_type": "markdown",
   "metadata": {},
   "source": [
    "## Using the `random.rand` function\n",
    "\n",
    "A way to test code is by supplying a lot of random input and checking to see if the correct results are produced every time. To produce the random inputs, we'll use the `random` module and the `rand` function with no arguments to produce a number between zero and one."
   ]
  },
  {
   "cell_type": "code",
   "execution_count": 8,
   "metadata": {},
   "outputs": [
    {
     "name": "stdout",
     "output_type": "stream",
     "text": [
      "Random number\n",
      " 0.5432739233546299\n"
     ]
    }
   ],
   "source": [
    "r = np.random.rand()\n",
    "print(\"Random number\\n\", r)"
   ]
  },
  {
   "cell_type": "markdown",
   "metadata": {},
   "source": [
    "We can create a matrix of random numbers like so:"
   ]
  },
  {
   "cell_type": "code",
   "execution_count": 9,
   "metadata": {},
   "outputs": [
    {
     "name": "stdout",
     "output_type": "stream",
     "text": [
      "Matrix of random numbers\n",
      " [[0.9485253  0.85144437]\n",
      " [0.47141143 0.20290383]\n",
      " [0.38700746 0.56739908]]\n"
     ]
    }
   ],
   "source": [
    "X = np.random.rand(3, 2)\n",
    "print(\"Matrix of random numbers\\n\", X)"
   ]
  },
  {
   "cell_type": "markdown",
   "metadata": {},
   "source": [
    "To generate random integers, we can use the `randint` function. If we write `np.random.randint(20)`, we'll get a random number between (and including) 0 and 19, eg:"
   ]
  },
  {
   "cell_type": "code",
   "execution_count": 10,
   "metadata": {},
   "outputs": [
    {
     "name": "stdout",
     "output_type": "stream",
     "text": [
      "Random integer between 0 and 19\n",
      " 18\n"
     ]
    }
   ],
   "source": [
    "print(\"Random integer between 0 and 19\\n\", np.random.randint(20))"
   ]
  }
 ],
 "metadata": {
  "kernelspec": {
   "display_name": "Python 3",
   "language": "python",
   "name": "python3"
  },
  "language_info": {
   "codemirror_mode": {
    "name": "ipython",
    "version": 3
   },
   "file_extension": ".py",
   "mimetype": "text/x-python",
   "name": "python",
   "nbconvert_exporter": "python",
   "pygments_lexer": "ipython3",
   "version": "3.11.4"
  }
 },
 "nbformat": 4,
 "nbformat_minor": 2
}
